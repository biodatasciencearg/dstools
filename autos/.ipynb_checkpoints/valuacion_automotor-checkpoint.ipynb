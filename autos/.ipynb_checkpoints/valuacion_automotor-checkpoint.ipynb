{
 "cells": [
  {
   "cell_type": "code",
   "execution_count": 1,
   "metadata": {},
   "outputs": [],
   "source": [
    "import requests \n",
    "from bs4 import BeautifulSoup \n",
    "import pandas as pd\n",
    "def get_valuacion_from_html (url):\n",
    "    '''Funcion que a traves de una url me trae las tablas de valuaciones'''\n",
    "    import json\n",
    "    import pandas as pd\n",
    "    r = requests.get(url) \n",
    "    soup = BeautifulSoup(r.content, 'html5lib') \n",
    "    supa = soup.find('input',attrs={'id' : 'grillaData'})\n",
    "    value = supa.get('value')\n",
    "    table_2019_json = eval(json.loads(value))\n",
    "    return pd.DataFrame(table_2019_json['tableRows'],columns=table_2019_json['tableHeaders'])"
   ]
  },
  {
   "cell_type": "code",
   "execution_count": 2,
   "metadata": {},
   "outputs": [],
   "source": [
    "URL_2013 = \"https://www.agip.gob.ar/informacion-de-utilidad/valuaciondeautomotores-2013\"\n",
    "URL_2014 = \"https://www.agip.gob.ar/informacion-de-utilidad/valuaciondeautomotores-2014\"\n",
    "URL_2015 = \"https://www.agip.gob.ar/informacion-de-utilidad/valuaciondeautomotores-2015\"\n",
    "URL_2016 = \"https://www.agip.gob.ar/informacion-de-utilidad/valuaciondeautomotores-2016\"\n",
    "URL_2017 = \"https://www.agip.gob.ar/informacion-de-utilidad/valuaciondeautomotores-2017\"\n",
    "URL_2018 = \"https://www.agip.gob.ar/informacion-de-utilidad/valuacion-de-automotores-2018\"\n",
    "URL_2019 = \"https://www.agip.gob.ar/informacion-de-utilidad/valuacion-de-automotores-2019\""
   ]
  },
  {
   "cell_type": "code",
   "execution_count": 3,
   "metadata": {},
   "outputs": [],
   "source": [
    "URL_2013_df = get_valuacion_from_html(URL_2013)\n",
    "URL_2013_df['anio_valuacion']= 2013\n",
    "URL_2014_df = get_valuacion_from_html(URL_2014)\n",
    "URL_2014_df['anio_valuacion']= 2014\n",
    "URL_2015_df = get_valuacion_from_html(URL_2015)\n",
    "URL_2015_df['anio_valuacion']= 2015\n",
    "URL_2016_df = get_valuacion_from_html(URL_2016)\n",
    "URL_2016_df['anio_valuacion']= 2016\n",
    "URL_2017_df = get_valuacion_from_html(URL_2017)\n",
    "URL_2017_df['anio_valuacion']= 2017\n",
    "URL_2018_df = get_valuacion_from_html(URL_2018)\n",
    "URL_2018_df['anio_valuacion']= 2018\n",
    "URL_2019_df = get_valuacion_from_html(URL_2019)\n",
    "URL_2019_df['anio_valuacion']= 2019"
   ]
  },
  {
   "cell_type": "code",
   "execution_count": 4,
   "metadata": {},
   "outputs": [],
   "source": [
    "df = pd.concat([URL_2013_df,URL_2014_df,URL_2015_df,URL_2016_df,URL_2017_df,URL_2018_df,URL_2019_df])"
   ]
  },
  {
   "cell_type": "code",
   "execution_count": 5,
   "metadata": {},
   "outputs": [
    {
     "data": {
      "text/plain": [
       "Index(['Nro Orden', 'Cod. Marca', 'Nombre Marca', 'Modelo', 'Año valuación',\n",
       "       'Modelo Año', 'Valuación', 'anio_valuacion'],\n",
       "      dtype='object')"
      ]
     },
     "execution_count": 5,
     "metadata": {},
     "output_type": "execute_result"
    }
   ],
   "source": [
    "URL_2013_df.columns"
   ]
  },
  {
   "cell_type": "code",
   "execution_count": 6,
   "metadata": {},
   "outputs": [
    {
     "data": {
      "text/plain": [
       "Index(['Nro Orden', 'Cod. Marca', 'Nombre Marca', 'Modelo', 'Año valuación',\n",
       "       'Modelo Año', 'Valuación', 'anio_valuacion'],\n",
       "      dtype='object')"
      ]
     },
     "execution_count": 6,
     "metadata": {},
     "output_type": "execute_result"
    }
   ],
   "source": [
    "URL_2014_df.columns"
   ]
  },
  {
   "cell_type": "code",
   "execution_count": 7,
   "metadata": {},
   "outputs": [
    {
     "data": {
      "text/plain": [
       "Index(['Nro Orden', 'Cod. Marca', 'Nombre Marca', 'Modelo', 'Año valuación',\n",
       "       'Modelo Año', 'Valuación', 'anio_valuacion'],\n",
       "      dtype='object')"
      ]
     },
     "execution_count": 7,
     "metadata": {},
     "output_type": "execute_result"
    }
   ],
   "source": [
    "URL_2015_df.columns"
   ]
  },
  {
   "cell_type": "code",
   "execution_count": 8,
   "metadata": {},
   "outputs": [
    {
     "data": {
      "text/plain": [
       "Index(['código', 'marca', 'año', 'fábrica', 'familia', 'valuación',\n",
       "       'anio_valuacion'],\n",
       "      dtype='object')"
      ]
     },
     "execution_count": 8,
     "metadata": {},
     "output_type": "execute_result"
    }
   ],
   "source": [
    "URL_2016_df.columns"
   ]
  },
  {
   "cell_type": "code",
   "execution_count": 9,
   "metadata": {},
   "outputs": [
    {
     "data": {
      "text/plain": [
       "Index(['código', 'marca', 'año', 'fábrica', 'familia', 'valuación',\n",
       "       'anio_valuacion'],\n",
       "      dtype='object')"
      ]
     },
     "execution_count": 9,
     "metadata": {},
     "output_type": "execute_result"
    }
   ],
   "source": [
    "URL_2017_df.columns"
   ]
  },
  {
   "cell_type": "code",
   "execution_count": 10,
   "metadata": {},
   "outputs": [
    {
     "data": {
      "text/plain": [
       "Index(['marca', 'rubro', 'fábrica', 'descripción', 'modelo', 'valuación',\n",
       "       'anio_valuacion'],\n",
       "      dtype='object')"
      ]
     },
     "execution_count": 10,
     "metadata": {},
     "output_type": "execute_result"
    }
   ],
   "source": [
    "URL_2018_df.columns"
   ]
  },
  {
   "cell_type": "code",
   "execution_count": 12,
   "metadata": {},
   "outputs": [
    {
     "data": {
      "text/html": [
       "<div>\n",
       "<style scoped>\n",
       "    .dataframe tbody tr th:only-of-type {\n",
       "        vertical-align: middle;\n",
       "    }\n",
       "\n",
       "    .dataframe tbody tr th {\n",
       "        vertical-align: top;\n",
       "    }\n",
       "\n",
       "    .dataframe thead th {\n",
       "        text-align: right;\n",
       "    }\n",
       "</style>\n",
       "<table border=\"1\" class=\"dataframe\">\n",
       "  <thead>\n",
       "    <tr style=\"text-align: right;\">\n",
       "      <th></th>\n",
       "      <th>marca</th>\n",
       "      <th>rubro</th>\n",
       "      <th>fábrica</th>\n",
       "      <th>descripción</th>\n",
       "      <th>modelo</th>\n",
       "      <th>valuación</th>\n",
       "      <th>anio_valuacion</th>\n",
       "    </tr>\n",
       "  </thead>\n",
       "  <tbody>\n",
       "    <tr>\n",
       "      <th>0</th>\n",
       "      <td>927012660</td>\n",
       "      <td>125</td>\n",
       "      <td>2009</td>\n",
       "      <td>5 STARS</td>\n",
       "      <td>CD-H</td>\n",
       "      <td>16.132</td>\n",
       "      <td>2018</td>\n",
       "    </tr>\n",
       "    <tr>\n",
       "      <th>1</th>\n",
       "      <td>927010660</td>\n",
       "      <td></td>\n",
       "      <td>2008</td>\n",
       "      <td>5 STARS</td>\n",
       "      <td>GB-D70</td>\n",
       "      <td>8.251</td>\n",
       "      <td>2018</td>\n",
       "    </tr>\n",
       "    <tr>\n",
       "      <th>2</th>\n",
       "      <td>927011660</td>\n",
       "      <td></td>\n",
       "      <td>2009</td>\n",
       "      <td>5 STARS</td>\n",
       "      <td>CD-H200</td>\n",
       "      <td>17.373</td>\n",
       "      <td>2018</td>\n",
       "    </tr>\n",
       "    <tr>\n",
       "      <th>3</th>\n",
       "      <td>982600600</td>\n",
       "      <td></td>\n",
       "      <td>2013</td>\n",
       "      <td>A.B.C.</td>\n",
       "      <td></td>\n",
       "      <td>40.252</td>\n",
       "      <td>2018</td>\n",
       "    </tr>\n",
       "    <tr>\n",
       "      <th>4</th>\n",
       "      <td>2505200</td>\n",
       "      <td></td>\n",
       "      <td>1928</td>\n",
       "      <td>A.F.F.</td>\n",
       "      <td>PICK-UP/JEEP</td>\n",
       "      <td>9.383</td>\n",
       "      <td>2018</td>\n",
       "    </tr>\n",
       "  </tbody>\n",
       "</table>\n",
       "</div>"
      ],
      "text/plain": [
       "       marca                           rubro fábrica descripción  \\\n",
       "0  927012660                             125    2009     5 STARS   \n",
       "1  927010660                                    2008     5 STARS   \n",
       "2  927011660                                    2009     5 STARS   \n",
       "3  982600600                                    2013      A.B.C.   \n",
       "4    2505200                                    1928      A.F.F.   \n",
       "\n",
       "         modelo valuación  anio_valuacion  \n",
       "0          CD-H   16.132             2018  \n",
       "1        GB-D70    8.251             2018  \n",
       "2       CD-H200   17.373             2018  \n",
       "3                 40.252             2018  \n",
       "4  PICK-UP/JEEP    9.383             2018  "
      ]
     },
     "execution_count": 12,
     "metadata": {},
     "output_type": "execute_result"
    }
   ],
   "source": [
    "URL_2018_df.head()"
   ]
  },
  {
   "cell_type": "code",
   "execution_count": 14,
   "metadata": {},
   "outputs": [],
   "source": [
    "URL_2019_df.to_csv('valuaciones_2019.csv',index=False)"
   ]
  },
  {
   "cell_type": "code",
   "execution_count": 26,
   "metadata": {},
   "outputs": [
    {
     "data": {
      "text/html": [
       "<div>\n",
       "<style scoped>\n",
       "    .dataframe tbody tr th:only-of-type {\n",
       "        vertical-align: middle;\n",
       "    }\n",
       "\n",
       "    .dataframe tbody tr th {\n",
       "        vertical-align: top;\n",
       "    }\n",
       "\n",
       "    .dataframe thead th {\n",
       "        text-align: right;\n",
       "    }\n",
       "</style>\n",
       "<table border=\"1\" class=\"dataframe\">\n",
       "  <thead>\n",
       "    <tr style=\"text-align: right;\">\n",
       "      <th></th>\n",
       "      <th>marca</th>\n",
       "      <th>rubro</th>\n",
       "      <th>fábrica</th>\n",
       "      <th>descripción</th>\n",
       "      <th>modelo</th>\n",
       "      <th>valuación</th>\n",
       "      <th>anio_valuacion</th>\n",
       "    </tr>\n",
       "  </thead>\n",
       "  <tbody>\n",
       "    <tr>\n",
       "      <th>0</th>\n",
       "      <td>927012660</td>\n",
       "      <td>6</td>\n",
       "      <td>5 STARS</td>\n",
       "      <td>CD-H 125</td>\n",
       "      <td>2009</td>\n",
       "      <td>25287</td>\n",
       "      <td>2019</td>\n",
       "    </tr>\n",
       "    <tr>\n",
       "      <th>1</th>\n",
       "      <td>927011660</td>\n",
       "      <td>6</td>\n",
       "      <td>5 STARS</td>\n",
       "      <td>CD-H200</td>\n",
       "      <td>2009</td>\n",
       "      <td>27232</td>\n",
       "      <td>2019</td>\n",
       "    </tr>\n",
       "    <tr>\n",
       "      <th>2</th>\n",
       "      <td>927010660</td>\n",
       "      <td>6</td>\n",
       "      <td>5 STARS</td>\n",
       "      <td>GB-D70</td>\n",
       "      <td>2008</td>\n",
       "      <td>12933</td>\n",
       "      <td>2019</td>\n",
       "    </tr>\n",
       "    <tr>\n",
       "      <th>3</th>\n",
       "      <td>982600600</td>\n",
       "      <td>6</td>\n",
       "      <td>A.B.C.</td>\n",
       "      <td></td>\n",
       "      <td>2013</td>\n",
       "      <td>63095</td>\n",
       "      <td>2019</td>\n",
       "    </tr>\n",
       "    <tr>\n",
       "      <th>4</th>\n",
       "      <td>50600</td>\n",
       "      <td>6</td>\n",
       "      <td>A.B.C.</td>\n",
       "      <td>ALVAREZ JORGE MIGUEL SPEED LIMIT SL 50</td>\n",
       "      <td>2017</td>\n",
       "      <td>100320</td>\n",
       "      <td>2019</td>\n",
       "    </tr>\n",
       "  </tbody>\n",
       "</table>\n",
       "</div>"
      ],
      "text/plain": [
       "       marca rubro  fábrica                             descripción modelo  \\\n",
       "0  927012660     6  5 STARS                                CD-H 125   2009   \n",
       "1  927011660     6  5 STARS                                CD-H200    2009   \n",
       "2  927010660     6  5 STARS                                 GB-D70    2008   \n",
       "3  982600600     6   A.B.C.                                           2013   \n",
       "4      50600     6   A.B.C.  ALVAREZ JORGE MIGUEL SPEED LIMIT SL 50   2017   \n",
       "\n",
       "  valuación  anio_valuacion  \n",
       "0     25287            2019  \n",
       "1     27232            2019  \n",
       "2     12933            2019  \n",
       "3     63095            2019  \n",
       "4    100320            2019  "
      ]
     },
     "execution_count": 26,
     "metadata": {},
     "output_type": "execute_result"
    }
   ],
   "source": [
    "URL_2019_df.head()"
   ]
  },
  {
   "cell_type": "code",
   "execution_count": 31,
   "metadata": {},
   "outputs": [],
   "source": [
    "tabla_2019 = URL_2019_df[['fábrica','descripción','modelo','valuación','anio_valuacion']]\n",
    "tabla_2019.columns = ['marca','modelo','ANO','valuacion','anio_valuacion']"
   ]
  },
  {
   "cell_type": "code",
   "execution_count": 95,
   "metadata": {},
   "outputs": [
    {
     "name": "stderr",
     "output_type": "stream",
     "text": [
      "/home/elias/.conda/envs/siisa/lib/python3.7/site-packages/ipykernel_launcher.py:1: SettingWithCopyWarning: \n",
      "A value is trying to be set on a copy of a slice from a DataFrame.\n",
      "Try using .loc[row_indexer,col_indexer] = value instead\n",
      "\n",
      "See the caveats in the documentation: https://pandas.pydata.org/pandas-docs/stable/user_guide/indexing.html#returning-a-view-versus-a-copy\n",
      "  \"\"\"Entry point for launching an IPython kernel.\n"
     ]
    }
   ],
   "source": [
    "tabla_2019['ANO']=tabla_2019.ANO.astype('int64')"
   ]
  },
  {
   "cell_type": "code",
   "execution_count": 86,
   "metadata": {},
   "outputs": [],
   "source": [
    "tabla_2019.to_csv('auto_valuaciones.csv',index=False)"
   ]
  },
  {
   "cell_type": "code",
   "execution_count": 91,
   "metadata": {},
   "outputs": [
    {
     "data": {
      "text/plain": [
       "0        2009\n",
       "1        2009\n",
       "2        2008\n",
       "3        2013\n",
       "4        2017\n",
       "         ... \n",
       "79537    1997\n",
       "79538    1998\n",
       "79539    1999\n",
       "79540    1992\n",
       "79541    1938\n",
       "Name: ANO, Length: 79542, dtype: object"
      ]
     },
     "execution_count": 91,
     "metadata": {},
     "output_type": "execute_result"
    }
   ],
   "source": [
    "tabla_2019.ANO"
   ]
  }
 ],
 "metadata": {
  "kernelspec": {
   "display_name": "Python 3",
   "language": "python",
   "name": "python3"
  },
  "language_info": {
   "codemirror_mode": {
    "name": "ipython",
    "version": 3
   },
   "file_extension": ".py",
   "mimetype": "text/x-python",
   "name": "python",
   "nbconvert_exporter": "python",
   "pygments_lexer": "ipython3",
   "version": "3.7.3"
  }
 },
 "nbformat": 4,
 "nbformat_minor": 2
}
